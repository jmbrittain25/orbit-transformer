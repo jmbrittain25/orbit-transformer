{
 "cells": [
  {
   "cell_type": "code",
   "execution_count": 3,
   "metadata": {},
   "outputs": [],
   "source": [
    "import os\n",
    "import pandas as pd\n",
    "from astropy import units as u\n",
    "from torch.utils.data import DataLoader\n",
    "\n",
    "import orbit_transformer as ot"
   ]
  },
  {
   "cell_type": "code",
   "execution_count": null,
   "metadata": {},
   "outputs": [],
   "source": [
    "total_raw_csv_path = os.path.join(\".\", \"orbits_dataset_1000_raw.csv\")\n",
    "\n",
    "train_raw_csv_path = total_raw_csv_path.replace(\"raw.csv\", \"train_raw.csv\")\n",
    "val_raw_csv_path = total_raw_csv_path.replace(\"raw.csv\", \"val_raw.csv\") \n",
    "test_raw_csv_path = total_raw_csv_path.replace(\"raw.csv\", \"test_raw.csv\")\n",
    "\n",
    "train_tokenized_csv_path = total_raw_csv_path.replace(\"raw.csv\", \"train_tokenized.csv\")\n",
    "val_tokenized_csv_path = total_raw_csv_path.replace(\"raw.csv\", \"val_tokenized.csv\")\n",
    "test_tokenized_csv_path = total_raw_csv_path.replace(\"raw.csv\", \"test_tokenized.csv\")"
   ]
  },
  {
   "cell_type": "code",
   "execution_count": null,
   "metadata": {},
   "outputs": [],
   "source": [
    "# df = ot.generate_orbits_dataset(\n",
    "#     n_orbits=1_000,\n",
    "#     orbit_types=[\"LEO\", \"MEO\", \"HEO\", \"GEO\"],\n",
    "#     time_step=60*u.s,\n",
    "#     out_csv=total_raw_csv_path\n",
    "# )\n",
    "\n",
    "# df = pd.read_csv(total_raw_csv_path)\n",
    "\n",
    "# df_train, df_val, df_test = ot.split_orbits_by_id(df)\n",
    "\n",
    "# df_train.to_csv(train_raw_csv_path, index=False)\n",
    "# df_val.to_csv(val_raw_csv_path, index=False)\n",
    "# df_test.to_csv(test_raw_csv_path, index=False)\n",
    "\n",
    "# tokenizer = ot.SphericalCoordinateTokenizer(\n",
    "#     r_bins=200,\n",
    "#     theta_bins=1,\n",
    "#     phi_bins=360,\n",
    "#     theta_min=0.0,\n",
    "#     theta_max=180.0,\n",
    "#     phi_min=-180.0,\n",
    "#     phi_max=180.0,\n",
    "#     composite_tokens=False\n",
    "# )\n",
    "\n",
    "# tokenizer.visualize_all_bins_3d()\n",
    "\n",
    "# df_train = pd.read_csv(train_raw_csv_path) if df_train is None else df_train\n",
    "# df_train_tokenized = tokenizer.transform(df_train)\n",
    "# df_train_tokenized.to_csv(train_tokenized_csv_path, index=False)\n",
    "\n",
    "# df_val = pd.read_csv(val_raw_csv_path) if df_val is None else df_val\n",
    "# df_val_tokenized = tokenizer.transform(df_val)\n",
    "# df_val_tokenized.to_csv(val_tokenized_csv_path, index=False)\n",
    "\n",
    "# df_test = pd.read_csv(test_raw_csv_path) if df_test is None else df_test\n",
    "# df_test_tokenized = tokenizer.transform(df_test)\n",
    "# df_test_tokenized.to_csv(test_tokenized_csv_path, index=False)"
   ]
  },
  {
   "cell_type": "code",
   "execution_count": null,
   "metadata": {},
   "outputs": [],
   "source": [
    "train_dataset = ot.OrbitTokenDataset(\n",
    "    csv_path=train_tokenized_csv_path,\n",
    "    input_length=32,\n",
    "    output_length=1,\n",
    "    stride=1\n",
    ")\n",
    "\n",
    "train_loader = DataLoader(\n",
    "    train_dataset,\n",
    "    batch_size=16,  # or whatever fits in memory\n",
    "    shuffle=True,\n",
    "    num_workers=0,  # Apple MPS often does best with 0 or 1 worker\n",
    "    drop_last=True\n",
    ")\n",
    "\n",
    "for batch in train_loader:\n",
    "    inputs, targets = batch[\"input\"], batch[\"output\"]\n",
    "    # inputs shape: (B, 32)\n",
    "    # targets shape: (B, 1)\n",
    "    # ... pass to model ...\n",
    "    break"
   ]
  },
  {
   "cell_type": "code",
   "execution_count": null,
   "metadata": {},
   "outputs": [],
   "source": []
  },
  {
   "cell_type": "code",
   "execution_count": null,
   "metadata": {},
   "outputs": [],
   "source": []
  },
  {
   "cell_type": "code",
   "execution_count": null,
   "metadata": {},
   "outputs": [],
   "source": []
  },
  {
   "cell_type": "code",
   "execution_count": null,
   "metadata": {},
   "outputs": [],
   "source": []
  }
 ],
 "metadata": {
  "kernelspec": {
   "display_name": ".venv",
   "language": "python",
   "name": "python3"
  },
  "language_info": {
   "codemirror_mode": {
    "name": "ipython",
    "version": 3
   },
   "file_extension": ".py",
   "mimetype": "text/x-python",
   "name": "python",
   "nbconvert_exporter": "python",
   "pygments_lexer": "ipython3",
   "version": "3.9.6"
  }
 },
 "nbformat": 4,
 "nbformat_minor": 2
}
