{
 "cells": [
  {
   "cell_type": "code",
   "execution_count": 1,
   "metadata": {},
   "outputs": [],
   "source": [
    "import os\n",
    "import json\n",
    "import numpy as np\n",
    "import matplotlib.pyplot as plt\n",
    "from collections import defaultdict"
   ]
  },
  {
   "cell_type": "code",
   "execution_count": 6,
   "metadata": {},
   "outputs": [],
   "source": [
    "def collect_run_data(trade_name, base_dir=\"orbit_training_runs\"):\n",
    "    \"\"\"\n",
    "    Collect validation losses and parameters from all runs for a given trade_name.\n",
    "    \n",
    "    Args:\n",
    "        trade_name (str): Name of the trade/experiment group.\n",
    "        base_dir (str): Base directory containing run outputs.\n",
    "    \n",
    "    Returns:\n",
    "        dict: Mapping of (n_bins, coordinate_system) to list of (val_losses, params).\n",
    "    \"\"\"\n",
    "    trade_dir = os.path.join(base_dir, trade_name)\n",
    "    if not os.path.exists(trade_dir):\n",
    "        raise FileNotFoundError(f\"Directory {trade_dir} does not exist.\")\n",
    "    \n",
    "    run_data = defaultdict(list)\n",
    "    \n",
    "    for run_name in os.listdir(trade_dir):\n",
    "        print(run_name)\n",
    "\n",
    "        run_path = os.path.join(trade_dir, run_name)\n",
    "        if not os.path.isdir(run_path):\n",
    "            print(\"boo 1\")\n",
    "            continue\n",
    "        \n",
    "        # Load metrics.json\n",
    "        sub_dir = [x for x in os.listdir(run_path) if \".\" not in x][0]\n",
    "        metrics_path = os.path.join(run_path, sub_dir, \"metrics.json\")\n",
    "        summary_path = os.path.join(run_path, \"summary.json\")\n",
    "        \n",
    "        if not (os.path.exists(metrics_path) and os.path.exists(summary_path)):\n",
    "            print(\"boo 2\")\n",
    "            continue\n",
    "        \n",
    "        try:\n",
    "            with open(metrics_path, 'r') as f:\n",
    "                metrics = json.load(f)\n",
    "            with open(summary_path, 'r') as f:\n",
    "                summary = json.load(f)\n",
    "            \n",
    "            val_losses = metrics.get(\"val_losses\", [])\n",
    "            params = summary.get(\"args\", {})\n",
    "            \n",
    "            n_bins = params.get(\"n_bins\")\n",
    "            coord_sys = params.get(\"coordinate_system\")\n",
    "            \n",
    "            if n_bins is None or coord_sys is None or not val_losses:\n",
    "                print(\"boo 3\")\n",
    "                continue\n",
    "            \n",
    "            run_data[(n_bins, coord_sys)].append((val_losses, params))\n",
    "        \n",
    "        except Exception as e:\n",
    "            print(f\"Error processing run {run_path}: {e}\")\n",
    "            continue\n",
    "    \n",
    "    return run_data"
   ]
  },
  {
   "cell_type": "code",
   "execution_count": 7,
   "metadata": {},
   "outputs": [
    {
     "name": "stdout",
     "output_type": "stream",
     "text": [
      ".DS_Store\n",
      "boo 1\n",
      "learning_rate0.001_batch_size64_n_layers4_n_heads4_input_length32_dataset_size500_n_bins512_coordinate_systemcartesian_d_model256_d_ff1024\n",
      "learning_rate1e-05_batch_size32_n_layers4_n_heads4_input_length32_dataset_size100_n_bins8192_coordinate_systemspherical_d_model256_d_ff1024\n",
      "boo 2\n"
     ]
    }
   ],
   "source": [
    "trade_name = \"scaling_laws_v1\"\n",
    "run_data = collect_run_data(trade_name)        "
   ]
  },
  {
   "cell_type": "code",
   "execution_count": 8,
   "metadata": {},
   "outputs": [
    {
     "data": {
      "text/plain": [
       "defaultdict(list,\n",
       "            {(512,\n",
       "              'cartesian'): [([1.1253978016835138,\n",
       "                0.9054382007527617,\n",
       "                0.7890979347362617,\n",
       "                0.7115412151680842,\n",
       "                0.6647634865606532,\n",
       "                0.6202448258836811,\n",
       "                0.5901901790182238,\n",
       "                0.5670764890095198,\n",
       "                5.362951767463563,\n",
       "                5.225292611956028],\n",
       "               {'trade_name': 'scaling_laws_v1',\n",
       "                'learning_rate': 0.001,\n",
       "                'batch_size': 64,\n",
       "                'n_layers': 4,\n",
       "                'n_heads': 4,\n",
       "                'input_length': 32,\n",
       "                'dataset_size': 500,\n",
       "                'n_bins': 512,\n",
       "                'coordinate_system': 'cartesian',\n",
       "                'd_model': 256,\n",
       "                'd_ff': 1024,\n",
       "                'epochs': 10})]})"
      ]
     },
     "execution_count": 8,
     "metadata": {},
     "output_type": "execute_result"
    }
   ],
   "source": [
    "run_data"
   ]
  },
  {
   "cell_type": "code",
   "execution_count": 11,
   "metadata": {},
   "outputs": [
    {
     "data": {
      "image/png": "[encoded data removed]",
      "text/plain": [
       "<Figure size 500x400 with 1 Axes>"
      ]
     },
     "metadata": {},
     "output_type": "display_data"
    }
   ],
   "source": [
    "# Determine the number of subplots needed\n",
    "combinations = sorted(run_data.keys())  # Sort for consistent ordering\n",
    "n_plots = len(combinations)\n",
    "\n",
    "# Calculate grid size (e.g., aim for a roughly square grid)\n",
    "n_cols = int(np.ceil(np.sqrt(n_plots)))\n",
    "n_rows = int(np.ceil(n_plots / n_cols))\n",
    "\n",
    "# Create a single figure with subplots\n",
    "fig, axes = plt.subplots(n_rows, n_cols, figsize=(n_cols * 5, n_rows * 4), squeeze=False)\n",
    "axes = axes.flatten()  # Flatten to easily index axes\n",
    "\n",
    "for idx, (n_bins, coord_sys) in enumerate(combinations):\n",
    "    ax = axes[idx]\n",
    "    runs = run_data[(n_bins, coord_sys)]\n",
    "    \n",
    "    for val_losses, params in runs:\n",
    "        epochs = list(range(1, len(val_losses) + 1))\n",
    "        \n",
    "        # Create legend label with relevant parameters\n",
    "        legend_label = (\n",
    "            f\"n_layers={params['n_layers']}, \"\n",
    "            f\"n_heads={params['n_heads']}, \"\n",
    "            f\"d_model={params['d_model']}, \"\n",
    "            f\"d_ff={params['d_ff']}, \"\n",
    "            f\"dataset_size={params['dataset_size']}, \"\n",
    "            f\"lr={params['learning_rate']}, \"\n",
    "            f\"batch_size={params['batch_size']}\"\n",
    "        )\n",
    "        \n",
    "        ax.plot(epochs, val_losses, label=legend_label, linewidth=2)\n",
    "    \n",
    "    ax.set_xlabel(\"Epoch\")\n",
    "    ax.set_ylabel(\"Total Validation Loss\")\n",
    "    ax.set_title(f\"n_bins={n_bins}, {coord_sys}\")\n",
    "    ax.grid(True)\n",
    "    \n",
    "    # Place legend outside the plot\n",
    "    # ax.legend(bbox_to_anchor=(1.05, 1), loc='upper left', fontsize=8)\n",
    "\n",
    "    ax.legend(bbox_to_anchor=(0.5, -0.2), loc='upper center', fontsize=8, \n",
    "                ncol=2, borderaxespad=0.)\n",
    "\n",
    "for idx in range(len(combinations), len(axes)):\n",
    "    axes[idx].set_visible(False)\n",
    "\n",
    "\n",
    "\n",
    "fig.suptitle(f\"Validation Loss vs Epochs for {trade_name}\", fontsize=16, y=1.02)\n",
    "\n",
    "# plt.tight_layout()\n",
    "\n",
    "# Adjust layout to prevent overlap, leaving space for legends\n",
    "plt.tight_layout(rect=[0, 0.1, 1, 0.95])  # Leave bottom space for legends\n",
    "\n",
    "plt.show()"
   ]
  },
  {
   "cell_type": "code",
   "execution_count": null,
   "metadata": {},
   "outputs": [],
   "source": []
  }
 ],
 "metadata": {
  "kernelspec": {
   "display_name": ".venv",
   "language": "python",
   "name": "python3"
  },
  "language_info": {
   "codemirror_mode": {
    "name": "ipython",
    "version": 3
   },
   "file_extension": ".py",
   "mimetype": "text/x-python",
   "name": "python",
   "nbconvert_exporter": "python",
   "pygments_lexer": "ipython3",
   "version": "3.9.6"
  }
 },
 "nbformat": 4,
 "nbformat_minor": 2
}
